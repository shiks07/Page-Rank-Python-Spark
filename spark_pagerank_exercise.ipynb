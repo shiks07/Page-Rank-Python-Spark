{
 "cells": [
  {
   "cell_type": "markdown",
   "metadata": {},
   "source": [
    "## shikha Goel - shikhag"
   ]
  },
  {
   "cell_type": "markdown",
   "metadata": {
    "colab_type": "text",
    "id": "4aytIDhkl4Fx"
   },
   "source": [
    "Below is the outline of pyspark code for calculating the pagerank of a graph expressed in the edge vector representation.  For this past of the assignment:\n",
    "\n",
    "1. Complete the code below\n",
    "2. Write doc string comments for all functions documenting what they do\n",
    "3. Test your code on other graphs we've worked in previous assignments\n",
    "\n",
    "I recommend reviewing the (i) the Excel spread sheet calculation we did for simulating the page rank calculation (ii) and slides on pagerank.  Ensure you under the algorithm well before starting on this exercise. \n",
    "\n",
    "Rather than just stating \"Write PySpark code to calculate PageRank\" I've provided some helper functions and sample output along the way to provide guidance.  To faciliate grading, do stay with these functions."
   ]
  },
  {
   "cell_type": "code",
   "execution_count": 0,
   "metadata": {
    "colab": {},
    "colab_type": "code",
    "id": "RpGR0cclmuc9"
   },
   "outputs": [],
   "source": [
    "!apt-get install openjdk-8-jdk-headless -qq > /dev/null\n",
    "!wget -q https://www-us.apache.org/dist/spark/spark-2.3.4/spark-2.3.4-bin-hadoop2.7.tgz\n",
    "!tar xf spark-2.3.4-bin-hadoop2.7.tgz\n",
    "!pip install -q findspark"
   ]
  },
  {
   "cell_type": "code",
   "execution_count": 0,
   "metadata": {
    "colab": {},
    "colab_type": "code",
    "id": "VDrQuIknnDBR"
   },
   "outputs": [],
   "source": [
    "import os\n",
    "os.environ[\"JAVA_HOME\"] = \"/usr/lib/jvm/java-8-openjdk-amd64\"\n",
    "os.environ[\"SPARK_HOME\"] = \"/content/spark-2.3.4-bin-hadoop2.7\""
   ]
  },
  {
   "cell_type": "code",
   "execution_count": 0,
   "metadata": {
    "colab": {},
    "colab_type": "code",
    "id": "zXSnjy5vl4F2"
   },
   "outputs": [],
   "source": [
    "import findspark\n",
    "findspark.init()\n",
    "from pyspark import SparkContext\n",
    "sc = SparkContext() "
   ]
  },
  {
   "cell_type": "code",
   "execution_count": 0,
   "metadata": {
    "colab": {},
    "colab_type": "code",
    "id": "g4Z32I7ZmqdU"
   },
   "outputs": [],
   "source": []
  },
  {
   "cell_type": "markdown",
   "metadata": {
    "colab_type": "text",
    "id": "7WEytMFUl4F6"
   },
   "source": [
    "# page rank"
   ]
  },
  {
   "cell_type": "code",
   "execution_count": 0,
   "metadata": {
    "colab": {},
    "colab_type": "code",
    "id": "Xy0ExXbSl4F8"
   },
   "outputs": [],
   "source": [
    "def parse_line(line):\n",
    "    '''\n",
    "    Takes a single line of the vector incident represenation and \n",
    "    returns a tuple having the page with a list of its outlinks\n",
    "    '''\n",
    "    x,*y = line.strip().split()\n",
    "    return (x,y)"
   ]
  },
  {
   "cell_type": "code",
   "execution_count": 0,
   "metadata": {
    "colab": {},
    "colab_type": "code",
    "id": "l19RZ-iZl4F_"
   },
   "outputs": [],
   "source": [
    "def read_graph(fname):\n",
    "    '''\n",
    "    Takes the filename having the vector incident representation and \n",
    "    returns an RDD object having tuples of the page with its out_links\n",
    "    '''\n",
    "    lines = sc.textFile(fname)\n",
    "    return lines.map(parse_line)"
   ]
  },
  {
   "cell_type": "code",
   "execution_count": 6,
   "metadata": {
    "colab": {
     "base_uri": "https://localhost:8080/",
     "height": 35
    },
    "colab_type": "code",
    "id": "rmDF5Iajl4GC",
    "outputId": "26d2ca6b-e7e8-4b72-a928-b9c64c30ee05"
   },
   "outputs": [
    {
     "data": {
      "text/plain": [
       "[('A', ['B', 'C']), ('B', ['C']), ('C', ['A']), ('D', ['C'])]"
      ]
     },
     "execution_count": 6,
     "metadata": {
      "tags": []
     },
     "output_type": "execute_result"
    }
   ],
   "source": [
    "read_graph('graph-1.txt').collect()"
   ]
  },
  {
   "cell_type": "code",
   "execution_count": 0,
   "metadata": {
    "colab": {},
    "colab_type": "code",
    "id": "RDv_vlDvl4GG",
    "scrolled": true
   },
   "outputs": [],
   "source": [
    "def init_ranks(graph):\n",
    "    '''\n",
    "    assigns an initial rank equal of 1/(number of nodes) to each node or page and returns an RDD object \n",
    "    '''\n",
    "    nodes = graph.count()\n",
    "    return graph.map(lambda tup : (tup[0],1/nodes))"
   ]
  },
  {
   "cell_type": "code",
   "execution_count": 8,
   "metadata": {
    "colab": {
     "base_uri": "https://localhost:8080/",
     "height": 35
    },
    "colab_type": "code",
    "id": "NZm_yZ4ql4GI",
    "outputId": "99398818-209e-43cd-942a-d8b4c2197315"
   },
   "outputs": [
    {
     "data": {
      "text/plain": [
       "[('A', 0.25), ('B', 0.25), ('C', 0.25), ('D', 0.25)]"
      ]
     },
     "execution_count": 8,
     "metadata": {
      "tags": []
     },
     "output_type": "execute_result"
    }
   ],
   "source": [
    "g = read_graph('graph-1.txt')\n",
    "init_ranks(g).collect()"
   ]
  },
  {
   "cell_type": "code",
   "execution_count": 0,
   "metadata": {
    "colab": {},
    "colab_type": "code",
    "id": "p1-oby3Gl4GL"
   },
   "outputs": [],
   "source": [
    "def calc_partials(x):\n",
    "    '''\n",
    "    calculates the partial rank of a page and returns an RDD list of (outlink,marginal rank) for each node that the page \n",
    "    contributes to.\n",
    "    '''\n",
    "    page,(rank,out_links) = x\n",
    "    partial = [(node,rank/len(out_links)) for node in out_links] \n",
    "    return partial\n",
    "        \n",
    "#calc_partials(u.take(1)[0])    "
   ]
  },
  {
   "cell_type": "code",
   "execution_count": 0,
   "metadata": {
    "colab": {},
    "colab_type": "code",
    "id": "8EzpS_BYl4GO"
   },
   "outputs": [],
   "source": [
    "def calc_contribs(ranks, graph):\n",
    "    '''\n",
    "    for each node, this function returns the partial rank of all the pages that have link into that node\n",
    "    and contribute to the pagerank of that node. It returns a RDD list of all such (node,marginal rank of incoming page) \n",
    "    tuples. The RDD list also pairs each node with zero to create an output for nodes that \n",
    "    have no incoming link connected to them.\n",
    "    '''\n",
    "    j = ranks.join(graph)\n",
    "    pair_with_zero = ranks.map(lambda x: (x[0],0.0))\n",
    "    partials = j.flatMap(calc_partials)\n",
    "    return partials.union(pair_with_zero)\n",
    "        "
   ]
  },
  {
   "cell_type": "code",
   "execution_count": 0,
   "metadata": {
    "colab": {},
    "colab_type": "code",
    "id": "CQ8WOeQfl4GQ"
   },
   "outputs": [],
   "source": [
    "g = read_graph('graph-1.txt')\n",
    "r = init_ranks(g)"
   ]
  },
  {
   "cell_type": "markdown",
   "metadata": {
    "colab_type": "text",
    "id": "By4zsSFEl4GS"
   },
   "source": [
    "Note that when calculating the contributions we have A, B, C, D also paired with 0?  Why?"
   ]
  },
  {
   "cell_type": "code",
   "execution_count": 12,
   "metadata": {
    "colab": {
     "base_uri": "https://localhost:8080/",
     "height": 173
    },
    "colab_type": "code",
    "id": "VS-TBP8Fl4GT",
    "outputId": "7f070be4-c62b-4fe0-85da-52e03f868458"
   },
   "outputs": [
    {
     "data": {
      "text/plain": [
       "[('B', 0.125),\n",
       " ('C', 0.125),\n",
       " ('C', 0.25),\n",
       " ('A', 0.25),\n",
       " ('C', 0.25),\n",
       " ('A', 0.0),\n",
       " ('B', 0.0),\n",
       " ('C', 0.0),\n",
       " ('D', 0.0)]"
      ]
     },
     "execution_count": 12,
     "metadata": {
      "tags": []
     },
     "output_type": "execute_result"
    }
   ],
   "source": [
    "c1 = calc_contribs(r, g)\n",
    "c1.collect()"
   ]
  },
  {
   "cell_type": "code",
   "execution_count": 0,
   "metadata": {
    "colab": {},
    "colab_type": "code",
    "id": "mkUX_r9Tl4GV"
   },
   "outputs": [],
   "source": [
    "def calc_ranks(contribs, num_nodes, beta):\n",
    "    '''\n",
    "    It takes the RDD of partial rank contributions,beta and number of nodes\n",
    "    as input, groups by page and then calculates the pagerank using the\n",
    "    pagerank formula\n",
    "    '''\n",
    "    return contribs.groupByKey().map(lambda z : (z[0] ,(1-beta)/num_nodes + beta*sum(z[1])))\n",
    "    "
   ]
  },
  {
   "cell_type": "code",
   "execution_count": 14,
   "metadata": {
    "colab": {
     "base_uri": "https://localhost:8080/",
     "height": 35
    },
    "colab_type": "code",
    "id": "I1Egl3RPl4GX",
    "outputId": "9fb026f9-bcd5-4b1b-f992-489b490e5757"
   },
   "outputs": [
    {
     "data": {
      "text/plain": [
       "[('C', 0.56875), ('A', 0.25), ('B', 0.14375), ('D', 0.037500000000000006)]"
      ]
     },
     "execution_count": 14,
     "metadata": {
      "tags": []
     },
     "output_type": "execute_result"
    }
   ],
   "source": [
    "calc_ranks(c1, num_nodes=g.count(), beta=0.85).collect()"
   ]
  },
  {
   "cell_type": "code",
   "execution_count": 0,
   "metadata": {
    "colab": {},
    "colab_type": "code",
    "id": "iDlKzVrrl4Gb"
   },
   "outputs": [],
   "source": [
    "def pagerank(fname, beta=0.85, n=10):\n",
    "    '''\n",
    "    This function calculates the pagerank of each page by iterating the pagerank formula n times. \n",
    "    It takes the vector incidence representation filename , beta and n as input adn returns\n",
    "    a list of (page,pagerank) for all pages as output\n",
    "    '''\n",
    "    g = read_graph(fname).collect()\n",
    "    r = init_ranks(sc.parallelize(g)).collect()\n",
    "    for i in range(n):\n",
    "        c = calc_contribs(sc.parallelize(r),sc.parallelize(g)).collect()\n",
    "        r = calc_ranks(sc.parallelize(c),sc.parallelize(g).count(),beta).collect()\n",
    "    return r\n",
    "        \n",
    "        \n",
    "        "
   ]
  },
  {
   "cell_type": "code",
   "execution_count": 28,
   "metadata": {
    "colab": {
     "base_uri": "https://localhost:8080/",
     "height": 87
    },
    "colab_type": "code",
    "id": "PbncL6iul4Gd",
    "outputId": "8597a1ee-3e9a-49e5-c991-449719daeb21"
   },
   "outputs": [
    {
     "data": {
      "text/plain": [
       "[('A', 0.375054382302053),\n",
       " ('B', 0.1949370588413849),\n",
       " ('C', 0.3925085588565621),\n",
       " ('D', 0.037500000000000006)]"
      ]
     },
     "execution_count": 28,
     "metadata": {
      "tags": []
     },
     "output_type": "execute_result"
    }
   ],
   "source": [
    "sorted(pagerank('graph-1.txt', beta=0.85, n=10))\n"
   ]
  },
  {
   "cell_type": "code",
   "execution_count": 29,
   "metadata": {
    "colab": {
     "base_uri": "https://localhost:8080/",
     "height": 104
    },
    "colab_type": "code",
    "id": "NHjSauUbl4Gg",
    "outputId": "cc0c4e49-c43b-4560-dc0f-a87ad6ff85e5"
   },
   "outputs": [
    {
     "data": {
      "text/plain": [
       "[('A', 0.3552329235133619),\n",
       " ('B', 0.18087715033826585),\n",
       " ('C', 0.26671408227310545),\n",
       " ('D', 0.08133891194042742),\n",
       " ('E', 0.11583693193483957)]"
      ]
     },
     "execution_count": 29,
     "metadata": {
      "tags": []
     },
     "output_type": "execute_result"
    }
   ],
   "source": [
    "sorted(pagerank('graph-2.txt', beta=0.85, n=10))"
   ]
  },
  {
   "cell_type": "code",
   "execution_count": 31,
   "metadata": {
    "colab": {
     "base_uri": "https://localhost:8080/",
     "height": 208
    },
    "colab_type": "code",
    "id": "J_c6Dq38sxVJ",
    "outputId": "2388f2fa-ccb1-42fd-88d0-1016da9bf616"
   },
   "outputs": [
    {
     "data": {
      "text/plain": [
       "[('A', 0.027646509310404344),\n",
       " ('B', 0.3036191818465732),\n",
       " ('C', 0.30972957233259435),\n",
       " ('D', 0.03297885857776607),\n",
       " ('E', 0.06821469112858616),\n",
       " ('F', 0.03297885857776607),\n",
       " ('G', 0.01363636363636364),\n",
       " ('H', 0.01363636363636364),\n",
       " ('I', 0.01363636363636364),\n",
       " ('J', 0.01363636363636364),\n",
       " ('K', 0.01363636363636364)]"
      ]
     },
     "execution_count": 31,
     "metadata": {
      "tags": []
     },
     "output_type": "execute_result"
    }
   ],
   "source": [
    "sorted(pagerank('wikipedia-example.txt', beta=0.85, n=10))"
   ]
  }
 ],
 "metadata": {
  "colab": {
   "name": "spark-pagerank-exercise-shikhag.ipynb",
   "provenance": []
  },
  "kernelspec": {
   "display_name": "Python 3",
   "language": "python",
   "name": "python3"
  },
  "language_info": {
   "codemirror_mode": {
    "name": "ipython",
    "version": 3
   },
   "file_extension": ".py",
   "mimetype": "text/x-python",
   "name": "python",
   "nbconvert_exporter": "python",
   "pygments_lexer": "ipython3",
   "version": "3.7.4"
  }
 },
 "nbformat": 4,
 "nbformat_minor": 1
}
