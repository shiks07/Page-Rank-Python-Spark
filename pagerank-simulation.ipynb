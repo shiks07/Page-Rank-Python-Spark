{
 "cells": [
  {
   "cell_type": "markdown",
   "metadata": {},
   "source": [
    "## shikha Goel - shikhag"
   ]
  },
  {
   "cell_type": "code",
   "execution_count": 1,
   "metadata": {},
   "outputs": [],
   "source": [
    "import random\n",
    "def read_graph(fname):\n",
    "    '''\n",
    "    Takes the filename with the incidence vector representation and \n",
    "    return a dict\n",
    "    '''\n",
    "    fin = open(fname,'r')\n",
    "    out = tuple((x,y) for x,*y in (line.strip().split() for line in fin))\n",
    "    return dict(out)\n"
   ]
  },
  {
   "cell_type": "code",
   "execution_count": 11,
   "metadata": {},
   "outputs": [],
   "source": [
    "def random_walk(graph, walk_len = 1000, beta = 0.85):\n",
    "    '''\n",
    "    Takes a graph and after performing a random walk of walk_len length, \n",
    "    returns the final landing page. The walk is implemented by jumping to a \n",
    "    page directly with probability 1-beta or by clicking on\n",
    "    a page link with probability beta. \n",
    "    '''\n",
    "    pages = list(graph.keys())\n",
    "    current_page = random.choice(pages) \n",
    "    for step in range(walk_len):\n",
    "        if random.random() <= beta:\n",
    "            links = graph[current_page]\n",
    "            if len(links)==0:\n",
    "                links = pages.copy()\n",
    "                links.remove(current_page)  ## <--- if the current page has no neighbors then all 'other' pages are treated a neighbours\n",
    "            current_page = random.choice(links) \n",
    "        else:\n",
    "            current_page = random.choice(pages)\n",
    "    return(current_page) \n"
   ]
  },
  {
   "cell_type": "code",
   "execution_count": 3,
   "metadata": {},
   "outputs": [],
   "source": [
    "def simulate_pagerank(fname,walk_len = 1000,N=1000,beta=0.85):\n",
    "    '''\n",
    "    Takes the filename with incidence vector representation and calls read_graph to \n",
    "    create dict. Passes the dict into random walk and performs random walk N times. \n",
    "    Each time it increases the counter of the final landing page from the random walk. \n",
    "    Calulates pagerank by dividing each page's landing counter with N and returns\n",
    "    pagerank of each page\n",
    "    '''\n",
    "    random.seed(1)\n",
    "    graph = read_graph(fname)\n",
    "    counter = {}\n",
    "    for i in range(N):\n",
    "        landing_page = random_walk(graph,walk_len,beta)\n",
    "        if landing_page in counter.keys():\n",
    "            counter[landing_page] += 1\n",
    "        else:\n",
    "            counter[landing_page] = 1\n",
    "            \n",
    "    for page,count in sorted(counter.items()):\n",
    "        print (page,count/N)\n",
    "    \n",
    "        "
   ]
  },
  {
   "cell_type": "code",
   "execution_count": 4,
   "metadata": {},
   "outputs": [
    {
     "name": "stdout",
     "output_type": "stream",
     "text": [
      "A 0.379\n",
      "B 0.206\n",
      "C 0.37\n",
      "D 0.045\n"
     ]
    }
   ],
   "source": [
    "simulate_pagerank(\"graph-1.txt\")\n"
   ]
  },
  {
   "cell_type": "code",
   "execution_count": 5,
   "metadata": {},
   "outputs": [
    {
     "name": "stdout",
     "output_type": "stream",
     "text": [
      "A 0.362\n",
      "B 0.169\n",
      "C 0.27\n",
      "D 0.071\n",
      "E 0.128\n"
     ]
    }
   ],
   "source": [
    "simulate_pagerank(\"graph-2.txt\")"
   ]
  },
  {
   "cell_type": "code",
   "execution_count": 13,
   "metadata": {},
   "outputs": [
    {
     "name": "stdout",
     "output_type": "stream",
     "text": [
      "A 0.032\n",
      "B 0.393\n",
      "C 0.345\n",
      "D 0.027\n",
      "E 0.084\n",
      "F 0.038\n",
      "G 0.011\n",
      "H 0.023\n",
      "I 0.014\n",
      "J 0.019\n",
      "K 0.014\n"
     ]
    }
   ],
   "source": [
    "simulate_pagerank(\"wikipedia-example.txt\",walk_len = 1000,N=1000,beta=0.85)   "
   ]
  },
  {
   "cell_type": "code",
   "execution_count": null,
   "metadata": {},
   "outputs": [],
   "source": []
  }
 ],
 "metadata": {
  "kernelspec": {
   "display_name": "Python 3",
   "language": "python",
   "name": "python3"
  },
  "language_info": {
   "codemirror_mode": {
    "name": "ipython",
    "version": 3
   },
   "file_extension": ".py",
   "mimetype": "text/x-python",
   "name": "python",
   "nbconvert_exporter": "python",
   "pygments_lexer": "ipython3",
   "version": "3.7.4"
  }
 },
 "nbformat": 4,
 "nbformat_minor": 2
}
